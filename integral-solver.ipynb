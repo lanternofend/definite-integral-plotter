# %%
import numpy as np
import scipy as sp
import sympy as smp
import matplotlib.pyplot as plt
from scipy.integrate import quad
from scipy.integrate import cumulative_trapezoid
from IPython.display import Math, display # type: ignore


# %% [markdown]
# ## For definite integrals:
# we need the intervals, and the integrand, which is $f(x)=...$

# %%
x = smp.symbols('x')
f= x**3 + 3*x**2 + 3*x + 1
display(Math('f(x) = ' + smp.latex(f)))

# %% [markdown]
# Now we can find the answer of this by integrating it using sympy:

# %%
print(smp.integrate(f, (x,0,2)))

# %% [markdown]
# alternatively, we can plot this definite integral using matplotlib:

# %%
f_num = smp.lambdify(x, f, 'numpy')

x_val = np.linspace(-1, 5, 1000)
y_val = f_num(x_val)

plt.plot(x_val, y_val, label=r"$f(x) = x**3 + 3*x**2 + 3*x + 1")
plt.axhline(0, color="black", linewidth=1)
plt.axvline(0, color="black", linewidth=1)

x_fill = np.linspace(0, 2, 100)
y_fill = f_num(x_fill)
plt.fill_between(x_fill, y_fill, alpha=0.3, color="red")

plt.xlabel("x")
plt.ylabel("f(x)")
plt.title("Definite Integral Of f(x)")
plt.show()


